{
  "nbformat": 4,
  "nbformat_minor": 0,
  "metadata": {
    "colab": {
      "provenance": [],
      "authorship_tag": "ABX9TyPdekKtH017kusFy07Q+iqv",
      "include_colab_link": true
    },
    "kernelspec": {
      "name": "python3",
      "display_name": "Python 3"
    },
    "language_info": {
      "name": "python"
    }
  },
  "cells": [
    {
      "cell_type": "markdown",
      "metadata": {
        "id": "view-in-github",
        "colab_type": "text"
      },
      "source": [
        "<a href=\"https://colab.research.google.com/github/craobhruadh/MyStatisticalRethinking/blob/main/Statistical_Rethinking_week_7.ipynb\" target=\"_parent\"><img src=\"https://colab.research.google.com/assets/colab-badge.svg\" alt=\"Open In Colab\"/></a>"
      ]
    },
    {
      "cell_type": "code",
      "execution_count": 1,
      "metadata": {
        "colab": {
          "base_uri": "https://localhost:8080/"
        },
        "id": "-OpPP8_H6LWj",
        "outputId": "98487262-04fa-4f18-e5ee-a89cffcbd28f"
      },
      "outputs": [
        {
          "output_type": "stream",
          "name": "stdout",
          "text": [
            "Looking in indexes: https://pypi.org/simple, https://us-python.pkg.dev/colab-wheels/public/simple/\n",
            "Collecting numpyro\n",
            "  Downloading numpyro-0.10.1-py3-none-any.whl (292 kB)\n",
            "\u001b[K     |████████████████████████████████| 292 kB 3.9 MB/s \n",
            "\u001b[?25hRequirement already satisfied: multipledispatch in /usr/local/lib/python3.8/dist-packages (from numpyro) (0.6.0)\n",
            "Requirement already satisfied: tqdm in /usr/local/lib/python3.8/dist-packages (from numpyro) (4.64.1)\n",
            "Requirement already satisfied: numpy in /usr/local/lib/python3.8/dist-packages (from numpyro) (1.21.6)\n",
            "Requirement already satisfied: jaxlib>=0.1.65 in /usr/local/lib/python3.8/dist-packages (from numpyro) (0.3.25+cuda11.cudnn805)\n",
            "Requirement already satisfied: jax>=0.2.13 in /usr/local/lib/python3.8/dist-packages (from numpyro) (0.3.25)\n",
            "Requirement already satisfied: opt-einsum in /usr/local/lib/python3.8/dist-packages (from jax>=0.2.13->numpyro) (3.3.0)\n",
            "Requirement already satisfied: scipy>=1.5 in /usr/local/lib/python3.8/dist-packages (from jax>=0.2.13->numpyro) (1.7.3)\n",
            "Requirement already satisfied: typing-extensions in /usr/local/lib/python3.8/dist-packages (from jax>=0.2.13->numpyro) (4.4.0)\n",
            "Requirement already satisfied: six in /usr/local/lib/python3.8/dist-packages (from multipledispatch->numpyro) (1.15.0)\n",
            "Installing collected packages: numpyro\n",
            "Successfully installed numpyro-0.10.1\n"
          ]
        }
      ],
      "source": [
        "!pip install numpyro"
      ]
    },
    {
      "cell_type": "code",
      "source": [
        "!pip install jax"
      ],
      "metadata": {
        "colab": {
          "base_uri": "https://localhost:8080/"
        },
        "id": "-c1zogDZ6NxN",
        "outputId": "936ac6cc-dd05-4311-f2fb-c09ff3dd7b60"
      },
      "execution_count": 2,
      "outputs": [
        {
          "output_type": "stream",
          "name": "stdout",
          "text": [
            "Looking in indexes: https://pypi.org/simple, https://us-python.pkg.dev/colab-wheels/public/simple/\n",
            "Requirement already satisfied: jax in /usr/local/lib/python3.8/dist-packages (0.3.25)\n",
            "Requirement already satisfied: typing-extensions in /usr/local/lib/python3.8/dist-packages (from jax) (4.4.0)\n",
            "Requirement already satisfied: scipy>=1.5 in /usr/local/lib/python3.8/dist-packages (from jax) (1.7.3)\n",
            "Requirement already satisfied: numpy>=1.20 in /usr/local/lib/python3.8/dist-packages (from jax) (1.21.6)\n",
            "Requirement already satisfied: opt-einsum in /usr/local/lib/python3.8/dist-packages (from jax) (3.3.0)\n"
          ]
        }
      ]
    },
    {
      "cell_type": "code",
      "source": [
        "import pandas as pd\n",
        "import numpy as np\n",
        "import matplotlib.pyplot as plt\n",
        "\n",
        "import jax.numpy as jnp\n",
        "from jax import random\n",
        "from jax.scipy.special import expit as logistic\n",
        "\n",
        "import numpyro \n",
        "from numpyro.infer.autoguide import AutoLaplaceApproximation\n",
        "from numpyro.infer import SVI, Trace_ELBO, MCMC, NUTS\n",
        "from numpyro.diagnostics import print_summary\n",
        "import numpyro.distributions as dist\n",
        "import numpyro.optim as optim\n",
        "\n",
        "import arviz as az"
      ],
      "metadata": {
        "id": "YhT72hmT6OvN"
      },
      "execution_count": 3,
      "outputs": []
    },
    {
      "cell_type": "markdown",
      "source": [
        "# Question 1\n",
        ">The data in data(bangladesh) are 1934 women from the 1989 Bangladesh Fertility Survey. For each woman, we know which district she lived in, her number of living.children, her age.centered, whether she lived in an urban center, and finally whether or not she used contraception (`use.contraception`).\n",
        "\n",
        ">In this first problem, I only want you to investigate the proportion of women using contraception in each district. Use partial pooling (varying effects). Then compare the varying effect estimates to the raw empirical proportion in each district. Explain the differences between the estimates and the data.\n",
        "\n",
        ">Note that district number 54 is absent in the data. This causes some problems in indexing the parameters. The simplest fix is just to tell ulam manually how long the vector should be, like this: vector`[61]:a ~ normal(abar,sigma)`. Pay special attention to district number 54’s estimate.\n"
      ],
      "metadata": {
        "id": "qPL3ivTHRMtD"
      }
    },
    {
      "cell_type": "code",
      "source": [
        "df = pd.read_csv('https://raw.githubusercontent.com/rmcelreath/rethinking/master/data/bangladesh.csv', sep=';')"
      ],
      "metadata": {
        "id": "CtfkcbS1REjn"
      },
      "execution_count": 4,
      "outputs": []
    },
    {
      "cell_type": "code",
      "source": [
        "df.head()"
      ],
      "metadata": {
        "colab": {
          "base_uri": "https://localhost:8080/",
          "height": 206
        },
        "id": "Hi8BX-9PRFo-",
        "outputId": "44e1189d-446f-4ea8-851a-648320a6fc71"
      },
      "execution_count": 5,
      "outputs": [
        {
          "output_type": "execute_result",
          "data": {
            "text/plain": [
              "   woman  district  use.contraception  living.children  age.centered  urban\n",
              "0      1         1                  0                4       18.4400      1\n",
              "1      2         1                  0                1       -5.5599      1\n",
              "2      3         1                  0                3        1.4400      1\n",
              "3      4         1                  0                4        8.4400      1\n",
              "4      5         1                  0                1      -13.5590      1"
            ],
            "text/html": [
              "\n",
              "  <div id=\"df-0d421eda-67d3-45fc-b8a8-35c51f14995c\">\n",
              "    <div class=\"colab-df-container\">\n",
              "      <div>\n",
              "<style scoped>\n",
              "    .dataframe tbody tr th:only-of-type {\n",
              "        vertical-align: middle;\n",
              "    }\n",
              "\n",
              "    .dataframe tbody tr th {\n",
              "        vertical-align: top;\n",
              "    }\n",
              "\n",
              "    .dataframe thead th {\n",
              "        text-align: right;\n",
              "    }\n",
              "</style>\n",
              "<table border=\"1\" class=\"dataframe\">\n",
              "  <thead>\n",
              "    <tr style=\"text-align: right;\">\n",
              "      <th></th>\n",
              "      <th>woman</th>\n",
              "      <th>district</th>\n",
              "      <th>use.contraception</th>\n",
              "      <th>living.children</th>\n",
              "      <th>age.centered</th>\n",
              "      <th>urban</th>\n",
              "    </tr>\n",
              "  </thead>\n",
              "  <tbody>\n",
              "    <tr>\n",
              "      <th>0</th>\n",
              "      <td>1</td>\n",
              "      <td>1</td>\n",
              "      <td>0</td>\n",
              "      <td>4</td>\n",
              "      <td>18.4400</td>\n",
              "      <td>1</td>\n",
              "    </tr>\n",
              "    <tr>\n",
              "      <th>1</th>\n",
              "      <td>2</td>\n",
              "      <td>1</td>\n",
              "      <td>0</td>\n",
              "      <td>1</td>\n",
              "      <td>-5.5599</td>\n",
              "      <td>1</td>\n",
              "    </tr>\n",
              "    <tr>\n",
              "      <th>2</th>\n",
              "      <td>3</td>\n",
              "      <td>1</td>\n",
              "      <td>0</td>\n",
              "      <td>3</td>\n",
              "      <td>1.4400</td>\n",
              "      <td>1</td>\n",
              "    </tr>\n",
              "    <tr>\n",
              "      <th>3</th>\n",
              "      <td>4</td>\n",
              "      <td>1</td>\n",
              "      <td>0</td>\n",
              "      <td>4</td>\n",
              "      <td>8.4400</td>\n",
              "      <td>1</td>\n",
              "    </tr>\n",
              "    <tr>\n",
              "      <th>4</th>\n",
              "      <td>5</td>\n",
              "      <td>1</td>\n",
              "      <td>0</td>\n",
              "      <td>1</td>\n",
              "      <td>-13.5590</td>\n",
              "      <td>1</td>\n",
              "    </tr>\n",
              "  </tbody>\n",
              "</table>\n",
              "</div>\n",
              "      <button class=\"colab-df-convert\" onclick=\"convertToInteractive('df-0d421eda-67d3-45fc-b8a8-35c51f14995c')\"\n",
              "              title=\"Convert this dataframe to an interactive table.\"\n",
              "              style=\"display:none;\">\n",
              "        \n",
              "  <svg xmlns=\"http://www.w3.org/2000/svg\" height=\"24px\"viewBox=\"0 0 24 24\"\n",
              "       width=\"24px\">\n",
              "    <path d=\"M0 0h24v24H0V0z\" fill=\"none\"/>\n",
              "    <path d=\"M18.56 5.44l.94 2.06.94-2.06 2.06-.94-2.06-.94-.94-2.06-.94 2.06-2.06.94zm-11 1L8.5 8.5l.94-2.06 2.06-.94-2.06-.94L8.5 2.5l-.94 2.06-2.06.94zm10 10l.94 2.06.94-2.06 2.06-.94-2.06-.94-.94-2.06-.94 2.06-2.06.94z\"/><path d=\"M17.41 7.96l-1.37-1.37c-.4-.4-.92-.59-1.43-.59-.52 0-1.04.2-1.43.59L10.3 9.45l-7.72 7.72c-.78.78-.78 2.05 0 2.83L4 21.41c.39.39.9.59 1.41.59.51 0 1.02-.2 1.41-.59l7.78-7.78 2.81-2.81c.8-.78.8-2.07 0-2.86zM5.41 20L4 18.59l7.72-7.72 1.47 1.35L5.41 20z\"/>\n",
              "  </svg>\n",
              "      </button>\n",
              "      \n",
              "  <style>\n",
              "    .colab-df-container {\n",
              "      display:flex;\n",
              "      flex-wrap:wrap;\n",
              "      gap: 12px;\n",
              "    }\n",
              "\n",
              "    .colab-df-convert {\n",
              "      background-color: #E8F0FE;\n",
              "      border: none;\n",
              "      border-radius: 50%;\n",
              "      cursor: pointer;\n",
              "      display: none;\n",
              "      fill: #1967D2;\n",
              "      height: 32px;\n",
              "      padding: 0 0 0 0;\n",
              "      width: 32px;\n",
              "    }\n",
              "\n",
              "    .colab-df-convert:hover {\n",
              "      background-color: #E2EBFA;\n",
              "      box-shadow: 0px 1px 2px rgba(60, 64, 67, 0.3), 0px 1px 3px 1px rgba(60, 64, 67, 0.15);\n",
              "      fill: #174EA6;\n",
              "    }\n",
              "\n",
              "    [theme=dark] .colab-df-convert {\n",
              "      background-color: #3B4455;\n",
              "      fill: #D2E3FC;\n",
              "    }\n",
              "\n",
              "    [theme=dark] .colab-df-convert:hover {\n",
              "      background-color: #434B5C;\n",
              "      box-shadow: 0px 1px 3px 1px rgba(0, 0, 0, 0.15);\n",
              "      filter: drop-shadow(0px 1px 2px rgba(0, 0, 0, 0.3));\n",
              "      fill: #FFFFFF;\n",
              "    }\n",
              "  </style>\n",
              "\n",
              "      <script>\n",
              "        const buttonEl =\n",
              "          document.querySelector('#df-0d421eda-67d3-45fc-b8a8-35c51f14995c button.colab-df-convert');\n",
              "        buttonEl.style.display =\n",
              "          google.colab.kernel.accessAllowed ? 'block' : 'none';\n",
              "\n",
              "        async function convertToInteractive(key) {\n",
              "          const element = document.querySelector('#df-0d421eda-67d3-45fc-b8a8-35c51f14995c');\n",
              "          const dataTable =\n",
              "            await google.colab.kernel.invokeFunction('convertToInteractive',\n",
              "                                                     [key], {});\n",
              "          if (!dataTable) return;\n",
              "\n",
              "          const docLinkHtml = 'Like what you see? Visit the ' +\n",
              "            '<a target=\"_blank\" href=https://colab.research.google.com/notebooks/data_table.ipynb>data table notebook</a>'\n",
              "            + ' to learn more about interactive tables.';\n",
              "          element.innerHTML = '';\n",
              "          dataTable['output_type'] = 'display_data';\n",
              "          await google.colab.output.renderOutput(dataTable, element);\n",
              "          const docLink = document.createElement('div');\n",
              "          docLink.innerHTML = docLinkHtml;\n",
              "          element.appendChild(docLink);\n",
              "        }\n",
              "      </script>\n",
              "    </div>\n",
              "  </div>\n",
              "  "
            ]
          },
          "metadata": {},
          "execution_count": 5
        }
      ]
    },
    {
      "cell_type": "code",
      "source": [
        "df.info()"
      ],
      "metadata": {
        "colab": {
          "base_uri": "https://localhost:8080/"
        },
        "id": "Ivxh0zTRRIFo",
        "outputId": "764bde37-1b07-4cbb-d7d3-48ed237b6a8e"
      },
      "execution_count": 6,
      "outputs": [
        {
          "output_type": "stream",
          "name": "stdout",
          "text": [
            "<class 'pandas.core.frame.DataFrame'>\n",
            "RangeIndex: 1934 entries, 0 to 1933\n",
            "Data columns (total 6 columns):\n",
            " #   Column             Non-Null Count  Dtype  \n",
            "---  ------             --------------  -----  \n",
            " 0   woman              1934 non-null   int64  \n",
            " 1   district           1934 non-null   int64  \n",
            " 2   use.contraception  1934 non-null   int64  \n",
            " 3   living.children    1934 non-null   int64  \n",
            " 4   age.centered       1934 non-null   float64\n",
            " 5   urban              1934 non-null   int64  \n",
            "dtypes: float64(1), int64(5)\n",
            "memory usage: 90.8 KB\n"
          ]
        }
      ]
    },
    {
      "cell_type": "markdown",
      "source": [
        "Alternatively, McElreath uses silly languages like R, reindexing woman should be easy"
      ],
      "metadata": {
        "id": "4-Cm4YyyR-70"
      }
    },
    {
      "cell_type": "code",
      "source": [
        "df.drop('woman',axis=1, inplace=True)"
      ],
      "metadata": {
        "id": "Fwuig7cNRJrt"
      },
      "execution_count": 7,
      "outputs": []
    },
    {
      "cell_type": "code",
      "source": [
        "df['woman'] = np.arange(1,  df.shape[0]+1, 1)"
      ],
      "metadata": {
        "id": "QCKT_5wZR3yU"
      },
      "execution_count": 8,
      "outputs": []
    },
    {
      "cell_type": "code",
      "source": [
        "def model_q1(district, contraception=None):\n",
        "    \"\"\"New goal: leave the single letter variable names with mathematicians and people who got their PhDs \n",
        "    before 1980.  Can we write this to be more pythonic?\n",
        "    \n",
        "    ...even if this is numpyro and passing in variables into functions without declaring it an explicit\n",
        "    input is okay in this framework\n",
        "    \"\"\"\n",
        "\n",
        "    a_bar = numpyro.sample(\"a_bar\", dist.Normal(0, 1))\n",
        "    sigma = numpyro.sample(\"sigma\", dist.Exponential(1))\n",
        "    output = numpyro.sample(\"output\", dist.Normal(a_bar, sigma), sample_shape=district.shape)\n",
        "    logits = output[district]\n",
        "    numpyro.sample(\"contraception_hat\", dist.Bernoulli(logits=logits), obs=contraception)\n",
        "\n",
        "kernel = NUTS(model_q1)\n",
        "mcmc = MCMC(kernel, num_warmup=1000, num_samples=1000, num_chains=4, chain_method='sequential')\n",
        "mcmc.run(random.PRNGKey(2), df['district'].values, df['use.contraception'].values)"
      ],
      "metadata": {
        "colab": {
          "base_uri": "https://localhost:8080/"
        },
        "id": "Rg6AGk9ySVEN",
        "outputId": "4ea2f1e3-f291-4e28-da98-eed8f6f166b9"
      },
      "execution_count": 9,
      "outputs": [
        {
          "output_type": "stream",
          "name": "stderr",
          "text": [
            "WARNING:jax._src.lib.xla_bridge:No GPU/TPU found, falling back to CPU. (Set TF_CPP_MIN_LOG_LEVEL=0 and rerun for more info.)\n",
            "sample: 100%|██████████| 2000/2000 [00:38<00:00, 52.20it/s, 63 steps of size 9.30e-02. acc. prob=0.92]\n",
            "sample: 100%|██████████| 2000/2000 [00:21<00:00, 91.33it/s, 63 steps of size 1.30e-01. acc. prob=0.90]\n",
            "sample: 100%|██████████| 2000/2000 [00:23<00:00, 84.84it/s, 31 steps of size 1.22e-01. acc. prob=0.90] \n",
            "sample: 100%|██████████| 2000/2000 [00:24<00:00, 82.38it/s, 63 steps of size 1.09e-01. acc. prob=0.90]\n"
          ]
        }
      ]
    },
    {
      "cell_type": "code",
      "source": [
        "# mcmc.print_summary()\n"
      ],
      "metadata": {
        "id": "wqGxSM0BZKMS"
      },
      "execution_count": 10,
      "outputs": []
    },
    {
      "cell_type": "code",
      "source": [
        "samples_q1 = az.from_numpyro(mcmc)\n",
        "az.summary(samples_q1, var_names=['a_bar', 'sigma'], hdi_prob=0.89)"
      ],
      "metadata": {
        "colab": {
          "base_uri": "https://localhost:8080/",
          "height": 112
        },
        "id": "UKELoDIEYdNv",
        "outputId": "d39481d6-c27c-4b8b-b8f7-5213763ac34b"
      },
      "execution_count": 11,
      "outputs": [
        {
          "output_type": "execute_result",
          "data": {
            "text/plain": [
              "        mean     sd  hdi_5.5%  hdi_94.5%  mcse_mean  mcse_sd  ess_bulk  \\\n",
              "a_bar -0.553  0.094    -0.705     -0.406      0.014    0.010      47.0   \n",
              "sigma  0.554  0.116     0.336      0.716      0.026    0.019      20.0   \n",
              "\n",
              "       ess_tail  r_hat  \n",
              "a_bar     230.0   1.08  \n",
              "sigma      62.0   1.14  "
            ],
            "text/html": [
              "\n",
              "  <div id=\"df-ca28622d-49e2-4b49-af15-ddc5cc5d6bb0\">\n",
              "    <div class=\"colab-df-container\">\n",
              "      <div>\n",
              "<style scoped>\n",
              "    .dataframe tbody tr th:only-of-type {\n",
              "        vertical-align: middle;\n",
              "    }\n",
              "\n",
              "    .dataframe tbody tr th {\n",
              "        vertical-align: top;\n",
              "    }\n",
              "\n",
              "    .dataframe thead th {\n",
              "        text-align: right;\n",
              "    }\n",
              "</style>\n",
              "<table border=\"1\" class=\"dataframe\">\n",
              "  <thead>\n",
              "    <tr style=\"text-align: right;\">\n",
              "      <th></th>\n",
              "      <th>mean</th>\n",
              "      <th>sd</th>\n",
              "      <th>hdi_5.5%</th>\n",
              "      <th>hdi_94.5%</th>\n",
              "      <th>mcse_mean</th>\n",
              "      <th>mcse_sd</th>\n",
              "      <th>ess_bulk</th>\n",
              "      <th>ess_tail</th>\n",
              "      <th>r_hat</th>\n",
              "    </tr>\n",
              "  </thead>\n",
              "  <tbody>\n",
              "    <tr>\n",
              "      <th>a_bar</th>\n",
              "      <td>-0.553</td>\n",
              "      <td>0.094</td>\n",
              "      <td>-0.705</td>\n",
              "      <td>-0.406</td>\n",
              "      <td>0.014</td>\n",
              "      <td>0.010</td>\n",
              "      <td>47.0</td>\n",
              "      <td>230.0</td>\n",
              "      <td>1.08</td>\n",
              "    </tr>\n",
              "    <tr>\n",
              "      <th>sigma</th>\n",
              "      <td>0.554</td>\n",
              "      <td>0.116</td>\n",
              "      <td>0.336</td>\n",
              "      <td>0.716</td>\n",
              "      <td>0.026</td>\n",
              "      <td>0.019</td>\n",
              "      <td>20.0</td>\n",
              "      <td>62.0</td>\n",
              "      <td>1.14</td>\n",
              "    </tr>\n",
              "  </tbody>\n",
              "</table>\n",
              "</div>\n",
              "      <button class=\"colab-df-convert\" onclick=\"convertToInteractive('df-ca28622d-49e2-4b49-af15-ddc5cc5d6bb0')\"\n",
              "              title=\"Convert this dataframe to an interactive table.\"\n",
              "              style=\"display:none;\">\n",
              "        \n",
              "  <svg xmlns=\"http://www.w3.org/2000/svg\" height=\"24px\"viewBox=\"0 0 24 24\"\n",
              "       width=\"24px\">\n",
              "    <path d=\"M0 0h24v24H0V0z\" fill=\"none\"/>\n",
              "    <path d=\"M18.56 5.44l.94 2.06.94-2.06 2.06-.94-2.06-.94-.94-2.06-.94 2.06-2.06.94zm-11 1L8.5 8.5l.94-2.06 2.06-.94-2.06-.94L8.5 2.5l-.94 2.06-2.06.94zm10 10l.94 2.06.94-2.06 2.06-.94-2.06-.94-.94-2.06-.94 2.06-2.06.94z\"/><path d=\"M17.41 7.96l-1.37-1.37c-.4-.4-.92-.59-1.43-.59-.52 0-1.04.2-1.43.59L10.3 9.45l-7.72 7.72c-.78.78-.78 2.05 0 2.83L4 21.41c.39.39.9.59 1.41.59.51 0 1.02-.2 1.41-.59l7.78-7.78 2.81-2.81c.8-.78.8-2.07 0-2.86zM5.41 20L4 18.59l7.72-7.72 1.47 1.35L5.41 20z\"/>\n",
              "  </svg>\n",
              "      </button>\n",
              "      \n",
              "  <style>\n",
              "    .colab-df-container {\n",
              "      display:flex;\n",
              "      flex-wrap:wrap;\n",
              "      gap: 12px;\n",
              "    }\n",
              "\n",
              "    .colab-df-convert {\n",
              "      background-color: #E8F0FE;\n",
              "      border: none;\n",
              "      border-radius: 50%;\n",
              "      cursor: pointer;\n",
              "      display: none;\n",
              "      fill: #1967D2;\n",
              "      height: 32px;\n",
              "      padding: 0 0 0 0;\n",
              "      width: 32px;\n",
              "    }\n",
              "\n",
              "    .colab-df-convert:hover {\n",
              "      background-color: #E2EBFA;\n",
              "      box-shadow: 0px 1px 2px rgba(60, 64, 67, 0.3), 0px 1px 3px 1px rgba(60, 64, 67, 0.15);\n",
              "      fill: #174EA6;\n",
              "    }\n",
              "\n",
              "    [theme=dark] .colab-df-convert {\n",
              "      background-color: #3B4455;\n",
              "      fill: #D2E3FC;\n",
              "    }\n",
              "\n",
              "    [theme=dark] .colab-df-convert:hover {\n",
              "      background-color: #434B5C;\n",
              "      box-shadow: 0px 1px 3px 1px rgba(0, 0, 0, 0.15);\n",
              "      filter: drop-shadow(0px 1px 2px rgba(0, 0, 0, 0.3));\n",
              "      fill: #FFFFFF;\n",
              "    }\n",
              "  </style>\n",
              "\n",
              "      <script>\n",
              "        const buttonEl =\n",
              "          document.querySelector('#df-ca28622d-49e2-4b49-af15-ddc5cc5d6bb0 button.colab-df-convert');\n",
              "        buttonEl.style.display =\n",
              "          google.colab.kernel.accessAllowed ? 'block' : 'none';\n",
              "\n",
              "        async function convertToInteractive(key) {\n",
              "          const element = document.querySelector('#df-ca28622d-49e2-4b49-af15-ddc5cc5d6bb0');\n",
              "          const dataTable =\n",
              "            await google.colab.kernel.invokeFunction('convertToInteractive',\n",
              "                                                     [key], {});\n",
              "          if (!dataTable) return;\n",
              "\n",
              "          const docLinkHtml = 'Like what you see? Visit the ' +\n",
              "            '<a target=\"_blank\" href=https://colab.research.google.com/notebooks/data_table.ipynb>data table notebook</a>'\n",
              "            + ' to learn more about interactive tables.';\n",
              "          element.innerHTML = '';\n",
              "          dataTable['output_type'] = 'display_data';\n",
              "          await google.colab.output.renderOutput(dataTable, element);\n",
              "          const docLink = document.createElement('div');\n",
              "          docLink.innerHTML = docLinkHtml;\n",
              "          element.appendChild(docLink);\n",
              "        }\n",
              "      </script>\n",
              "    </div>\n",
              "  </div>\n",
              "  "
            ]
          },
          "metadata": {},
          "execution_count": 11
        }
      ]
    },
    {
      "cell_type": "code",
      "source": [
        "pct_using_contraception = df.groupby('district')['use.contraception'].sum()/df.groupby('district')['woman'].nunique()\n",
        "\n",
        "plt.figure(figsize=(20,5))\n",
        "plt.bar(pct_using_contraception.keys(), pct_using_contraception.values)"
      ],
      "metadata": {
        "colab": {
          "base_uri": "https://localhost:8080/",
          "height": 338
        },
        "id": "Lt2hHaUXYKuC",
        "outputId": "bc6a6515-1b85-4b8c-d90e-af53cc6e3f0c"
      },
      "execution_count": 12,
      "outputs": [
        {
          "output_type": "execute_result",
          "data": {
            "text/plain": [
              "<BarContainer object of 60 artists>"
            ]
          },
          "metadata": {},
          "execution_count": 12
        },
        {
          "output_type": "display_data",
          "data": {
            "text/plain": [
              "<Figure size 1440x360 with 1 Axes>"
            ],
            "image/png": "[encoded data removed]"
          },
          "metadata": {
            "needs_background": "light"
          }
        }
      ]
    },
    {
      "cell_type": "code",
      "source": [
        "pct_using_contraception.keys()"
      ],
      "metadata": {
        "colab": {
          "base_uri": "https://localhost:8080/"
        },
        "id": "MRNex2E3bZdi",
        "outputId": "36bdb13f-f1f8-4a53-be7a-809642cbf95a"
      },
      "execution_count": 13,
      "outputs": [
        {
          "output_type": "execute_result",
          "data": {
            "text/plain": [
              "Int64Index([ 1,  2,  3,  4,  5,  6,  7,  8,  9, 10, 11, 12, 13, 14, 15, 16, 17,\n",
              "            18, 19, 20, 21, 22, 23, 24, 25, 26, 27, 28, 29, 30, 31, 32, 33, 34,\n",
              "            35, 36, 37, 38, 39, 40, 41, 42, 43, 44, 45, 46, 47, 48, 49, 50, 51,\n",
              "            52, 53, 55, 56, 57, 58, 59, 60, 61],\n",
              "           dtype='int64', name='district')"
            ]
          },
          "metadata": {},
          "execution_count": 13
        }
      ]
    },
    {
      "cell_type": "code",
      "source": [
        "# def model_q3(district, urban, contraception=None):\n",
        "#     \"\"\"Adding urban living as a variable for contraception\n",
        "#     \"\"\"\n",
        "\n",
        "#     a_bar = numpyro.sample(\"a_bar\", dist.Normal(0, 1))\n",
        "#     sigma = numpyro.sample(\"sigma\", dist.Exponential(1))\n",
        "#     output = numpyro.sample(\"output\", dist.Normal(a_bar, sigma), sample_shape=district.shape)\n",
        "#     logits = output[district]\n",
        "#     numpyro.sample(\"contraception_hat\", dist.Bernoulli(logits=logits), obs=contraception)\n",
        "\n",
        "# kernel = NUTS(model_q1)\n",
        "# mcmc = MCMC(kernel, num_warmup=1000, num_samples=1000, num_chains=4, chain_method='sequential')\n",
        "# mcmc.run(random.PRNGKey(2), df['district'].values, df['use.contraception'].values)"
      ],
      "metadata": {
        "id": "SW9Sjxw-aqn-"
      },
      "execution_count": 16,
      "outputs": []
    },
    {
      "cell_type": "code",
      "source": [
        "# Is there a way to pass in constants to a numpyro function?  This is not a\n",
        "# good python practice\n",
        "n_district = df['district'].nunique()\n",
        "n_urban =  df['urban'].nunique()\n",
        "\n",
        "def model_q3(district, urban, contraception=None):\n",
        "    \"\"\"Add a new variable, urban to this!\n",
        "    \"\"\"\n",
        "\n",
        "    a_bar = numpyro.sample(\"a_bar\", dist.Normal(0, 1))\n",
        "    b_bar = numpyro.sample(\"b_bar\", dist.Normal(0,1))\n",
        "    sigma_ab = numpyro.sample(\"sigma_ab\", dist.Exponential(1), sample_shape=(2,))\n",
        "    rho = numpyro.sample('rho', dist.LKJ(2,2))\n",
        "\n",
        "    mu = jnp.stack([a_bar, b_bar])\n",
        "    covariance = jnp.outer(sigma_ab, sigma_ab)*rho\n",
        "    # n_district, n_urban = len(jnp.unique(district)), len(jnp.unique(urban))\n",
        "    priors = numpyro.sample(\n",
        "        \"priors\", \n",
        "        dist.MultivariateNormal(\n",
        "            mu, covariance\n",
        "        ),\n",
        "        sample_shape=(n_district, n_urban)\n",
        "    )\n",
        "\n",
        "\n",
        "    a_district, b_district = priors[:,:,0], priors[:,:,1]\n",
        "    theta = a_district[district, urban] + b_district[district, urban]*urban\n",
        "    contraception_hat = numpyro.sample(\n",
        "        'contraception_hat',\n",
        "         dist.Bernoulli(logits=theta), \n",
        "         obs=contraception\n",
        "    )\n",
        "\n",
        "\n",
        "kernel = NUTS(model_q3)\n",
        "mcmc = MCMC(\n",
        "    kernel, \n",
        "    num_warmup=1000, \n",
        "    num_samples=1000, \n",
        "    num_chains=4, \n",
        "    chain_method='sequential'\n",
        ")\n",
        "mcmc.run(\n",
        "    random.PRNGKey(0), \n",
        "    df['district'].values, \n",
        "    df['urban'].values, \n",
        "    df['use.contraception'].values\n",
        ")"
      ],
      "metadata": {
        "colab": {
          "base_uri": "https://localhost:8080/"
        },
        "id": "K2cv3QI2Y_9p",
        "outputId": "6c38ed51-b16e-4ad0-8ffd-c7dc4d9ead64"
      },
      "execution_count": 30,
      "outputs": [
        {
          "output_type": "stream",
          "name": "stderr",
          "text": [
            "sample: 100%|██████████| 2000/2000 [02:51<00:00, 11.67it/s, 1023 steps of size 8.00e-04. acc. prob=0.85]\n",
            "sample: 100%|██████████| 2000/2000 [02:26<00:00, 13.67it/s, 1023 steps of size 9.37e-04. acc. prob=0.86]\n",
            "sample: 100%|██████████| 2000/2000 [02:34<00:00, 12.99it/s, 1023 steps of size 7.90e-04. acc. prob=0.83]\n",
            "sample: 100%|██████████| 2000/2000 [02:26<00:00, 13.67it/s, 1023 steps of size 6.29e-04. acc. prob=0.85]\n"
          ]
        }
      ]
    },
    {
      "cell_type": "code",
      "source": [
        "samples_q3 = az.from_numpyro(mcmc)\n",
        "az.summary(samples_q3, var_names=['a_bar', 'b_bar', 'sigma_ab'], hdi_prob=0.89)"
      ],
      "metadata": {
        "colab": {
          "base_uri": "https://localhost:8080/",
          "height": 175
        },
        "id": "gCZ6mYQwlisS",
        "outputId": "5bd1b777-c709-4727-e338-cb1132f68af5"
      },
      "execution_count": 31,
      "outputs": [
        {
          "output_type": "execute_result",
          "data": {
            "text/plain": [
              "              mean     sd  hdi_5.5%  hdi_94.5%  mcse_mean  mcse_sd  ess_bulk  \\\n",
              "a_bar       -0.699  0.079    -0.820     -0.567      0.016    0.012      25.0   \n",
              "b_bar        0.732  0.120     0.532      0.915      0.037    0.027      11.0   \n",
              "sigma_ab[0]  0.593  0.092     0.453      0.743      0.030    0.022      10.0   \n",
              "sigma_ab[1]  0.339  0.321     0.003      0.859      0.148    0.112       5.0   \n",
              "\n",
              "             ess_tail  r_hat  \n",
              "a_bar           119.0   1.15  \n",
              "b_bar            54.0   1.29  \n",
              "sigma_ab[0]      52.0   1.39  \n",
              "sigma_ab[1]      11.0   2.28  "
            ],
            "text/html": [
              "\n",
              "  <div id=\"df-2ec07e67-c128-405a-be11-dc3548f6b2fd\">\n",
              "    <div class=\"colab-df-container\">\n",
              "      <div>\n",
              "<style scoped>\n",
              "    .dataframe tbody tr th:only-of-type {\n",
              "        vertical-align: middle;\n",
              "    }\n",
              "\n",
              "    .dataframe tbody tr th {\n",
              "        vertical-align: top;\n",
              "    }\n",
              "\n",
              "    .dataframe thead th {\n",
              "        text-align: right;\n",
              "    }\n",
              "</style>\n",
              "<table border=\"1\" class=\"dataframe\">\n",
              "  <thead>\n",
              "    <tr style=\"text-align: right;\">\n",
              "      <th></th>\n",
              "      <th>mean</th>\n",
              "      <th>sd</th>\n",
              "      <th>hdi_5.5%</th>\n",
              "      <th>hdi_94.5%</th>\n",
              "      <th>mcse_mean</th>\n",
              "      <th>mcse_sd</th>\n",
              "      <th>ess_bulk</th>\n",
              "      <th>ess_tail</th>\n",
              "      <th>r_hat</th>\n",
              "    </tr>\n",
              "  </thead>\n",
              "  <tbody>\n",
              "    <tr>\n",
              "      <th>a_bar</th>\n",
              "      <td>-0.699</td>\n",
              "      <td>0.079</td>\n",
              "      <td>-0.820</td>\n",
              "      <td>-0.567</td>\n",
              "      <td>0.016</td>\n",
              "      <td>0.012</td>\n",
              "      <td>25.0</td>\n",
              "      <td>119.0</td>\n",
              "      <td>1.15</td>\n",
              "    </tr>\n",
              "    <tr>\n",
              "      <th>b_bar</th>\n",
              "      <td>0.732</td>\n",
              "      <td>0.120</td>\n",
              "      <td>0.532</td>\n",
              "      <td>0.915</td>\n",
              "      <td>0.037</td>\n",
              "      <td>0.027</td>\n",
              "      <td>11.0</td>\n",
              "      <td>54.0</td>\n",
              "      <td>1.29</td>\n",
              "    </tr>\n",
              "    <tr>\n",
              "      <th>sigma_ab[0]</th>\n",
              "      <td>0.593</td>\n",
              "      <td>0.092</td>\n",
              "      <td>0.453</td>\n",
              "      <td>0.743</td>\n",
              "      <td>0.030</td>\n",
              "      <td>0.022</td>\n",
              "      <td>10.0</td>\n",
              "      <td>52.0</td>\n",
              "      <td>1.39</td>\n",
              "    </tr>\n",
              "    <tr>\n",
              "      <th>sigma_ab[1]</th>\n",
              "      <td>0.339</td>\n",
              "      <td>0.321</td>\n",
              "      <td>0.003</td>\n",
              "      <td>0.859</td>\n",
              "      <td>0.148</td>\n",
              "      <td>0.112</td>\n",
              "      <td>5.0</td>\n",
              "      <td>11.0</td>\n",
              "      <td>2.28</td>\n",
              "    </tr>\n",
              "  </tbody>\n",
              "</table>\n",
              "</div>\n",
              "      <button class=\"colab-df-convert\" onclick=\"convertToInteractive('df-2ec07e67-c128-405a-be11-dc3548f6b2fd')\"\n",
              "              title=\"Convert this dataframe to an interactive table.\"\n",
              "              style=\"display:none;\">\n",
              "        \n",
              "  <svg xmlns=\"http://www.w3.org/2000/svg\" height=\"24px\"viewBox=\"0 0 24 24\"\n",
              "       width=\"24px\">\n",
              "    <path d=\"M0 0h24v24H0V0z\" fill=\"none\"/>\n",
              "    <path d=\"M18.56 5.44l.94 2.06.94-2.06 2.06-.94-2.06-.94-.94-2.06-.94 2.06-2.06.94zm-11 1L8.5 8.5l.94-2.06 2.06-.94-2.06-.94L8.5 2.5l-.94 2.06-2.06.94zm10 10l.94 2.06.94-2.06 2.06-.94-2.06-.94-.94-2.06-.94 2.06-2.06.94z\"/><path d=\"M17.41 7.96l-1.37-1.37c-.4-.4-.92-.59-1.43-.59-.52 0-1.04.2-1.43.59L10.3 9.45l-7.72 7.72c-.78.78-.78 2.05 0 2.83L4 21.41c.39.39.9.59 1.41.59.51 0 1.02-.2 1.41-.59l7.78-7.78 2.81-2.81c.8-.78.8-2.07 0-2.86zM5.41 20L4 18.59l7.72-7.72 1.47 1.35L5.41 20z\"/>\n",
              "  </svg>\n",
              "      </button>\n",
              "      \n",
              "  <style>\n",
              "    .colab-df-container {\n",
              "      display:flex;\n",
              "      flex-wrap:wrap;\n",
              "      gap: 12px;\n",
              "    }\n",
              "\n",
              "    .colab-df-convert {\n",
              "      background-color: #E8F0FE;\n",
              "      border: none;\n",
              "      border-radius: 50%;\n",
              "      cursor: pointer;\n",
              "      display: none;\n",
              "      fill: #1967D2;\n",
              "      height: 32px;\n",
              "      padding: 0 0 0 0;\n",
              "      width: 32px;\n",
              "    }\n",
              "\n",
              "    .colab-df-convert:hover {\n",
              "      background-color: #E2EBFA;\n",
              "      box-shadow: 0px 1px 2px rgba(60, 64, 67, 0.3), 0px 1px 3px 1px rgba(60, 64, 67, 0.15);\n",
              "      fill: #174EA6;\n",
              "    }\n",
              "\n",
              "    [theme=dark] .colab-df-convert {\n",
              "      background-color: #3B4455;\n",
              "      fill: #D2E3FC;\n",
              "    }\n",
              "\n",
              "    [theme=dark] .colab-df-convert:hover {\n",
              "      background-color: #434B5C;\n",
              "      box-shadow: 0px 1px 3px 1px rgba(0, 0, 0, 0.15);\n",
              "      filter: drop-shadow(0px 1px 2px rgba(0, 0, 0, 0.3));\n",
              "      fill: #FFFFFF;\n",
              "    }\n",
              "  </style>\n",
              "\n",
              "      <script>\n",
              "        const buttonEl =\n",
              "          document.querySelector('#df-2ec07e67-c128-405a-be11-dc3548f6b2fd button.colab-df-convert');\n",
              "        buttonEl.style.display =\n",
              "          google.colab.kernel.accessAllowed ? 'block' : 'none';\n",
              "\n",
              "        async function convertToInteractive(key) {\n",
              "          const element = document.querySelector('#df-2ec07e67-c128-405a-be11-dc3548f6b2fd');\n",
              "          const dataTable =\n",
              "            await google.colab.kernel.invokeFunction('convertToInteractive',\n",
              "                                                     [key], {});\n",
              "          if (!dataTable) return;\n",
              "\n",
              "          const docLinkHtml = 'Like what you see? Visit the ' +\n",
              "            '<a target=\"_blank\" href=https://colab.research.google.com/notebooks/data_table.ipynb>data table notebook</a>'\n",
              "            + ' to learn more about interactive tables.';\n",
              "          element.innerHTML = '';\n",
              "          dataTable['output_type'] = 'display_data';\n",
              "          await google.colab.output.renderOutput(dataTable, element);\n",
              "          const docLink = document.createElement('div');\n",
              "          docLink.innerHTML = docLinkHtml;\n",
              "          element.appendChild(docLink);\n",
              "        }\n",
              "      </script>\n",
              "    </div>\n",
              "  </div>\n",
              "  "
            ]
          },
          "metadata": {},
          "execution_count": 31
        }
      ]
    },
    {
      "cell_type": "code",
      "source": [
        "# Is there a way to pass in constants to a numpyro function?  This is not a\n",
        "# good python practice\n",
        "n_district = df['district'].nunique()\n",
        "n_urban =  df['urban'].nunique()\n",
        "\n",
        "def model_q3_v2(district, urban, contraception=None):\n",
        "    \"\"\"Add a new variable, urban to this!\n",
        "    \"\"\"\n",
        "\n",
        "    a_bar = numpyro.sample(\"a_bar\", dist.Normal(0, 1))\n",
        "    b_bar = numpyro.sample(\"b_bar\", dist.Normal(0,1))\n",
        "    sigma_ab = numpyro.sample(\"sigma_ab\", dist.Exponential(1), sample_shape=(2,))\n",
        "    rho = numpyro.sample('rho', dist.LKJ(2,2))\n",
        "\n",
        "    mu = jnp.stack([a_bar, b_bar])\n",
        "    covariance = jnp.outer(sigma_ab, sigma_ab)*rho\n",
        "    # n_district, n_urban = len(jnp.unique(district)), len(jnp.unique(urban))\n",
        "    priors = numpyro.sample(\n",
        "        \"priors\", \n",
        "        dist.MultivariateNormal(\n",
        "            mu, covariance\n",
        "        ),\n",
        "        sample_shape=(n_district,)\n",
        "    )\n",
        "\n",
        "\n",
        "    theta = priors[district, urban] \n",
        "    contraception_hat = numpyro.sample(\n",
        "        'contraception_hat',\n",
        "         dist.Bernoulli(logits=theta), \n",
        "         obs=contraception\n",
        "    )\n",
        "\n",
        "\n",
        "kernel = NUTS(model_q3_v2)\n",
        "mcmc = MCMC(\n",
        "    kernel, \n",
        "    num_warmup=1000, \n",
        "    num_samples=1000, \n",
        "    num_chains=4, \n",
        "    chain_method='sequential'\n",
        ")\n",
        "mcmc.run(\n",
        "    random.PRNGKey(0), \n",
        "    df['district'].values, \n",
        "    df['urban'].values, \n",
        "    df['use.contraception'].values\n",
        ")"
      ],
      "metadata": {
        "colab": {
          "base_uri": "https://localhost:8080/"
        },
        "id": "vo-PP-a8nQGT",
        "outputId": "42fcd47c-3235-40eb-fe45-5eb014e1c3e3"
      },
      "execution_count": 33,
      "outputs": [
        {
          "output_type": "stream",
          "name": "stderr",
          "text": [
            "sample: 100%|██████████| 2000/2000 [03:13<00:00, 10.34it/s, 1023 steps of size 1.61e-03. acc. prob=0.77]\n",
            "sample: 100%|██████████| 2000/2000 [03:07<00:00, 10.66it/s, 1023 steps of size 1.23e-03. acc. prob=0.80]\n",
            "sample: 100%|██████████| 2000/2000 [03:07<00:00, 10.66it/s, 1023 steps of size 1.37e-03. acc. prob=0.78]\n",
            "sample: 100%|██████████| 2000/2000 [03:07<00:00, 10.69it/s, 1023 steps of size 9.81e-04. acc. prob=0.85]\n"
          ]
        }
      ]
    },
    {
      "cell_type": "code",
      "source": [
        "samples_q3_v2 = az.from_numpyro(mcmc)\n",
        "az.summary(samples_q3_v2, var_names=['a_bar', 'b_bar', 'sigma_ab'], hdi_prob=0.89)"
      ],
      "metadata": {
        "colab": {
          "base_uri": "https://localhost:8080/",
          "height": 175
        },
        "id": "hHPHc_eEpwY0",
        "outputId": "f4337baf-2f81-4813-c784-48de94f0a2f5"
      },
      "execution_count": 34,
      "outputs": [
        {
          "output_type": "execute_result",
          "data": {
            "text/plain": [
              "              mean     sd  hdi_5.5%  hdi_94.5%  mcse_mean  mcse_sd  ess_bulk  \\\n",
              "a_bar       -0.693  0.111    -0.864     -0.508      0.008    0.006     200.0   \n",
              "b_bar        0.042  0.147    -0.192      0.255      0.024    0.017      40.0   \n",
              "sigma_ab[0]  0.619  0.105     0.446      0.776      0.012    0.008      74.0   \n",
              "sigma_ab[1]  0.558  0.167     0.289      0.805      0.027    0.020      37.0   \n",
              "\n",
              "             ess_tail  r_hat  \n",
              "a_bar           445.0   1.03  \n",
              "b_bar            79.0   1.08  \n",
              "sigma_ab[0]     189.0   1.05  \n",
              "sigma_ab[1]      97.0   1.07  "
            ],
            "text/html": [
              "\n",
              "  <div id=\"df-6a22fd1f-9c33-4eb1-b312-630598036531\">\n",
              "    <div class=\"colab-df-container\">\n",
              "      <div>\n",
              "<style scoped>\n",
              "    .dataframe tbody tr th:only-of-type {\n",
              "        vertical-align: middle;\n",
              "    }\n",
              "\n",
              "    .dataframe tbody tr th {\n",
              "        vertical-align: top;\n",
              "    }\n",
              "\n",
              "    .dataframe thead th {\n",
              "        text-align: right;\n",
              "    }\n",
              "</style>\n",
              "<table border=\"1\" class=\"dataframe\">\n",
              "  <thead>\n",
              "    <tr style=\"text-align: right;\">\n",
              "      <th></th>\n",
              "      <th>mean</th>\n",
              "      <th>sd</th>\n",
              "      <th>hdi_5.5%</th>\n",
              "      <th>hdi_94.5%</th>\n",
              "      <th>mcse_mean</th>\n",
              "      <th>mcse_sd</th>\n",
              "      <th>ess_bulk</th>\n",
              "      <th>ess_tail</th>\n",
              "      <th>r_hat</th>\n",
              "    </tr>\n",
              "  </thead>\n",
              "  <tbody>\n",
              "    <tr>\n",
              "      <th>a_bar</th>\n",
              "      <td>-0.693</td>\n",
              "      <td>0.111</td>\n",
              "      <td>-0.864</td>\n",
              "      <td>-0.508</td>\n",
              "      <td>0.008</td>\n",
              "      <td>0.006</td>\n",
              "      <td>200.0</td>\n",
              "      <td>445.0</td>\n",
              "      <td>1.03</td>\n",
              "    </tr>\n",
              "    <tr>\n",
              "      <th>b_bar</th>\n",
              "      <td>0.042</td>\n",
              "      <td>0.147</td>\n",
              "      <td>-0.192</td>\n",
              "      <td>0.255</td>\n",
              "      <td>0.024</td>\n",
              "      <td>0.017</td>\n",
              "      <td>40.0</td>\n",
              "      <td>79.0</td>\n",
              "      <td>1.08</td>\n",
              "    </tr>\n",
              "    <tr>\n",
              "      <th>sigma_ab[0]</th>\n",
              "      <td>0.619</td>\n",
              "      <td>0.105</td>\n",
              "      <td>0.446</td>\n",
              "      <td>0.776</td>\n",
              "      <td>0.012</td>\n",
              "      <td>0.008</td>\n",
              "      <td>74.0</td>\n",
              "      <td>189.0</td>\n",
              "      <td>1.05</td>\n",
              "    </tr>\n",
              "    <tr>\n",
              "      <th>sigma_ab[1]</th>\n",
              "      <td>0.558</td>\n",
              "      <td>0.167</td>\n",
              "      <td>0.289</td>\n",
              "      <td>0.805</td>\n",
              "      <td>0.027</td>\n",
              "      <td>0.020</td>\n",
              "      <td>37.0</td>\n",
              "      <td>97.0</td>\n",
              "      <td>1.07</td>\n",
              "    </tr>\n",
              "  </tbody>\n",
              "</table>\n",
              "</div>\n",
              "      <button class=\"colab-df-convert\" onclick=\"convertToInteractive('df-6a22fd1f-9c33-4eb1-b312-630598036531')\"\n",
              "              title=\"Convert this dataframe to an interactive table.\"\n",
              "              style=\"display:none;\">\n",
              "        \n",
              "  <svg xmlns=\"http://www.w3.org/2000/svg\" height=\"24px\"viewBox=\"0 0 24 24\"\n",
              "       width=\"24px\">\n",
              "    <path d=\"M0 0h24v24H0V0z\" fill=\"none\"/>\n",
              "    <path d=\"M18.56 5.44l.94 2.06.94-2.06 2.06-.94-2.06-.94-.94-2.06-.94 2.06-2.06.94zm-11 1L8.5 8.5l.94-2.06 2.06-.94-2.06-.94L8.5 2.5l-.94 2.06-2.06.94zm10 10l.94 2.06.94-2.06 2.06-.94-2.06-.94-.94-2.06-.94 2.06-2.06.94z\"/><path d=\"M17.41 7.96l-1.37-1.37c-.4-.4-.92-.59-1.43-.59-.52 0-1.04.2-1.43.59L10.3 9.45l-7.72 7.72c-.78.78-.78 2.05 0 2.83L4 21.41c.39.39.9.59 1.41.59.51 0 1.02-.2 1.41-.59l7.78-7.78 2.81-2.81c.8-.78.8-2.07 0-2.86zM5.41 20L4 18.59l7.72-7.72 1.47 1.35L5.41 20z\"/>\n",
              "  </svg>\n",
              "      </button>\n",
              "      \n",
              "  <style>\n",
              "    .colab-df-container {\n",
              "      display:flex;\n",
              "      flex-wrap:wrap;\n",
              "      gap: 12px;\n",
              "    }\n",
              "\n",
              "    .colab-df-convert {\n",
              "      background-color: #E8F0FE;\n",
              "      border: none;\n",
              "      border-radius: 50%;\n",
              "      cursor: pointer;\n",
              "      display: none;\n",
              "      fill: #1967D2;\n",
              "      height: 32px;\n",
              "      padding: 0 0 0 0;\n",
              "      width: 32px;\n",
              "    }\n",
              "\n",
              "    .colab-df-convert:hover {\n",
              "      background-color: #E2EBFA;\n",
              "      box-shadow: 0px 1px 2px rgba(60, 64, 67, 0.3), 0px 1px 3px 1px rgba(60, 64, 67, 0.15);\n",
              "      fill: #174EA6;\n",
              "    }\n",
              "\n",
              "    [theme=dark] .colab-df-convert {\n",
              "      background-color: #3B4455;\n",
              "      fill: #D2E3FC;\n",
              "    }\n",
              "\n",
              "    [theme=dark] .colab-df-convert:hover {\n",
              "      background-color: #434B5C;\n",
              "      box-shadow: 0px 1px 3px 1px rgba(0, 0, 0, 0.15);\n",
              "      filter: drop-shadow(0px 1px 2px rgba(0, 0, 0, 0.3));\n",
              "      fill: #FFFFFF;\n",
              "    }\n",
              "  </style>\n",
              "\n",
              "      <script>\n",
              "        const buttonEl =\n",
              "          document.querySelector('#df-6a22fd1f-9c33-4eb1-b312-630598036531 button.colab-df-convert');\n",
              "        buttonEl.style.display =\n",
              "          google.colab.kernel.accessAllowed ? 'block' : 'none';\n",
              "\n",
              "        async function convertToInteractive(key) {\n",
              "          const element = document.querySelector('#df-6a22fd1f-9c33-4eb1-b312-630598036531');\n",
              "          const dataTable =\n",
              "            await google.colab.kernel.invokeFunction('convertToInteractive',\n",
              "                                                     [key], {});\n",
              "          if (!dataTable) return;\n",
              "\n",
              "          const docLinkHtml = 'Like what you see? Visit the ' +\n",
              "            '<a target=\"_blank\" href=https://colab.research.google.com/notebooks/data_table.ipynb>data table notebook</a>'\n",
              "            + ' to learn more about interactive tables.';\n",
              "          element.innerHTML = '';\n",
              "          dataTable['output_type'] = 'display_data';\n",
              "          await google.colab.output.renderOutput(dataTable, element);\n",
              "          const docLink = document.createElement('div');\n",
              "          docLink.innerHTML = docLinkHtml;\n",
              "          element.appendChild(docLink);\n",
              "        }\n",
              "      </script>\n",
              "    </div>\n",
              "  </div>\n",
              "  "
            ]
          },
          "metadata": {},
          "execution_count": 34
        }
      ]
    },
    {
      "cell_type": "code",
      "source": [],
      "metadata": {
        "id": "O6nOBs_sp0H9"
      },
      "execution_count": null,
      "outputs": []
    }
  ]
}