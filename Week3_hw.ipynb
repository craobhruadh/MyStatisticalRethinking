{
 "cells": [
  {
   "cell_type": "code",
   "execution_count": 30,
   "id": "b68baaf9",
   "metadata": {},
   "outputs": [],
   "source": [
    "import pandas as pd\n",
    "import numpy as np\n",
    "import matplotlib.pyplot as plt\n",
    "\n",
    "import jax.numpy as jnp\n",
    "from jax import random\n",
    "\n",
    "import numpyro \n",
    "from numpyro.infer.autoguide import AutoLaplaceApproximation\n",
    "from numpyro.infer import SVI, Trace_ELBO\n",
    "from numpyro.diagnostics import print_summary\n",
    "import numpyro.distributions as dist\n",
    "import numpyro.optim as optim\n",
    "from sklearn.preprocessing import StandardScaler"
   ]
  },
  {
   "cell_type": "code",
   "execution_count": 2,
   "id": "a9e12d5d",
   "metadata": {},
   "outputs": [],
   "source": [
    "filename = '../rethinking/data/foxes.csv'"
   ]
  },
  {
   "cell_type": "code",
   "execution_count": 3,
   "id": "1c77cc5a",
   "metadata": {},
   "outputs": [],
   "source": [
    "df = pd.read_csv(filename, sep=';')"
   ]
  },
  {
   "cell_type": "code",
   "execution_count": 4,
   "id": "3738ec28",
   "metadata": {},
   "outputs": [
    {
     "name": "stdout",
     "output_type": "stream",
     "text": [
      "<class 'pandas.core.frame.DataFrame'>\n",
      "RangeIndex: 116 entries, 0 to 115\n",
      "Data columns (total 5 columns):\n",
      " #   Column     Non-Null Count  Dtype  \n",
      "---  ------     --------------  -----  \n",
      " 0   group      116 non-null    int64  \n",
      " 1   avgfood    116 non-null    float64\n",
      " 2   groupsize  116 non-null    int64  \n",
      " 3   area       116 non-null    float64\n",
      " 4   weight     116 non-null    float64\n",
      "dtypes: float64(3), int64(2)\n",
      "memory usage: 4.7 KB\n"
     ]
    }
   ],
   "source": [
    "df.info()"
   ]
  },
  {
   "cell_type": "code",
   "execution_count": 5,
   "id": "a37148bd",
   "metadata": {},
   "outputs": [
    {
     "data": {
      "text/html": [
       "<div>\n",
       "<style scoped>\n",
       "    .dataframe tbody tr th:only-of-type {\n",
       "        vertical-align: middle;\n",
       "    }\n",
       "\n",
       "    .dataframe tbody tr th {\n",
       "        vertical-align: top;\n",
       "    }\n",
       "\n",
       "    .dataframe thead th {\n",
       "        text-align: right;\n",
       "    }\n",
       "</style>\n",
       "<table border=\"1\" class=\"dataframe\">\n",
       "  <thead>\n",
       "    <tr style=\"text-align: right;\">\n",
       "      <th></th>\n",
       "      <th>group</th>\n",
       "      <th>avgfood</th>\n",
       "      <th>groupsize</th>\n",
       "      <th>area</th>\n",
       "      <th>weight</th>\n",
       "    </tr>\n",
       "  </thead>\n",
       "  <tbody>\n",
       "    <tr>\n",
       "      <th>0</th>\n",
       "      <td>1</td>\n",
       "      <td>0.37</td>\n",
       "      <td>2</td>\n",
       "      <td>1.09</td>\n",
       "      <td>5.02</td>\n",
       "    </tr>\n",
       "    <tr>\n",
       "      <th>1</th>\n",
       "      <td>1</td>\n",
       "      <td>0.37</td>\n",
       "      <td>2</td>\n",
       "      <td>1.09</td>\n",
       "      <td>2.84</td>\n",
       "    </tr>\n",
       "    <tr>\n",
       "      <th>2</th>\n",
       "      <td>2</td>\n",
       "      <td>0.53</td>\n",
       "      <td>2</td>\n",
       "      <td>2.05</td>\n",
       "      <td>5.33</td>\n",
       "    </tr>\n",
       "    <tr>\n",
       "      <th>3</th>\n",
       "      <td>2</td>\n",
       "      <td>0.53</td>\n",
       "      <td>2</td>\n",
       "      <td>2.05</td>\n",
       "      <td>6.07</td>\n",
       "    </tr>\n",
       "    <tr>\n",
       "      <th>4</th>\n",
       "      <td>3</td>\n",
       "      <td>0.49</td>\n",
       "      <td>2</td>\n",
       "      <td>2.12</td>\n",
       "      <td>5.85</td>\n",
       "    </tr>\n",
       "  </tbody>\n",
       "</table>\n",
       "</div>"
      ],
      "text/plain": [
       "   group  avgfood  groupsize  area  weight\n",
       "0      1     0.37          2  1.09    5.02\n",
       "1      1     0.37          2  1.09    2.84\n",
       "2      2     0.53          2  2.05    5.33\n",
       "3      2     0.53          2  2.05    6.07\n",
       "4      3     0.49          2  2.12    5.85"
      ]
     },
     "execution_count": 5,
     "metadata": {},
     "output_type": "execute_result"
    }
   ],
   "source": [
    "df.head()"
   ]
  },
  {
   "cell_type": "code",
   "execution_count": 6,
   "id": "a225e43b",
   "metadata": {},
   "outputs": [],
   "source": [
    "df['avgfood'] = (df['avgfood'] - np.mean(df['avgfood'])) / np.std(df['avgfood'])\n",
    "df['groupsize'] = (df['groupsize'] - np.mean(df['groupsize'])) / np.std(df['groupsize'])\n",
    "df['area'] = (df['area'] - np.mean(df['area'])) / np.std(df['area'])\n",
    "df['weight'] = (df['weight'] - np.mean(df['weight'])) / np.std(df['weight'])\n"
   ]
  },
  {
   "cell_type": "markdown",
   "id": "c38bab7b",
   "metadata": {},
   "source": [
    "F is `avgfood`, G is `groupsize`, A is `area`, and W is `weight`."
   ]
  },
  {
   "cell_type": "markdown",
   "id": "68b2ab99",
   "metadata": {},
   "source": [
    "# Question 1\n",
    "\n",
    "Simulate the effect of A (\"area\") on F (\"avgfood\")\n",
    "\n",
    "Note: Numpyro is severly lacking in documentation but how to get it up and running was inferred from examples, such as this: https://fehiepsi.github.io/rethinking-numpyro/05-the-many-variables-and-the-spurious-waffles.html"
   ]
  },
  {
   "cell_type": "code",
   "execution_count": 27,
   "id": "3432413b",
   "metadata": {
    "scrolled": false
   },
   "outputs": [],
   "source": [
    "def model(A, D=None):\n",
    "    \n",
    "    a = numpyro.sample(\"a\", dist.Normal(0, 0.2))\n",
    "    bA = numpyro.sample(\"bA\", dist.Normal(0, 0.5))\n",
    "    mu = a + bA * A\n",
    "    sigma = numpyro.sample(\"sigma\", dist.Exponential(1))\n",
    "    F = numpyro.sample(\"F\", dist.Normal(mu, sigma), obs=D)\n",
    "\n",
    "pls_document_your_framework = AutoLaplaceApproximation(model)\n",
    "\n",
    "svi = SVI(\n",
    "    model, \n",
    "    pls_document_your_framework, \n",
    "    optim.Adam(1), \n",
    "    Trace_ELBO(), \n",
    "    A = df['area'].values,\n",
    "    D = df['avgfood'].values\n",
    ")"
   ]
  },
  {
   "cell_type": "code",
   "execution_count": 33,
   "id": "fe6b6d40",
   "metadata": {
    "scrolled": false
   },
   "outputs": [
    {
     "name": "stderr",
     "output_type": "stream",
     "text": [
      "100%|█| 10000/10000 [00:02<00:00, 4593.86it/s, init loss: 808.0281, avg. loss [9\n"
     ]
    },
    {
     "data": {
      "text/plain": [
       "{'auto_loc': DeviceArray([ 0.01509295,  0.9012608 , -0.73298544], dtype=float32)}"
      ]
     },
     "execution_count": 33,
     "metadata": {},
     "output_type": "execute_result"
    }
   ],
   "source": [
    "result = svi.run(random.PRNGKey(0), 10000)\n",
    "result.params"
   ]
  },
  {
   "cell_type": "code",
   "execution_count": 34,
   "id": "b57a641c",
   "metadata": {},
   "outputs": [],
   "source": [
    "posterior = pls_document_your_framework.sample_posterior(\n",
    "    random.PRNGKey(1), \n",
    "    result.params, \n",
    "    (10000,)\n",
    ")"
   ]
  },
  {
   "cell_type": "code",
   "execution_count": 37,
   "id": "e0c4addc",
   "metadata": {},
   "outputs": [
    {
     "name": "stdout",
     "output_type": "stream",
     "text": [
      "\n",
      "                mean       std    median      5.0%     95.0%     n_eff     r_hat\n",
      "         a      0.01      0.04      0.02     -0.06      0.08   9971.53      1.00\n",
      "        bA      0.90      0.04      0.90      0.83      0.97  10073.39      1.00\n",
      "     sigma      0.48      0.03      0.48      0.43      0.53   9782.38      1.00\n",
      "\n"
     ]
    }
   ],
   "source": [
    "print_summary(posterior, group_by_chain=False)"
   ]
  },
  {
   "cell_type": "markdown",
   "id": "bb89bf38",
   "metadata": {},
   "source": [
    "# Question 2\n",
    "\n",
    "Infer both the total and direct causal effects of adding food F to a territory on the weight W of foxes. Which covariates do you need to adjust for in each case? In light of your estimates from this problem and the previous one, what do you think is going on with these foxes? "
   ]
  },
  {
   "cell_type": "code",
   "execution_count": 38,
   "id": "b87a8221",
   "metadata": {},
   "outputs": [],
   "source": [
    "def model_one(F, D=None):\n",
    "    a = numpyro.sample(\"a\", dist.Normal(0, 0.2))\n",
    "    bF = numpyro.sample(\"bF\", dist.Normal(0, 0.5))\n",
    "    sigma = numpyro.sample(\"sigma\", dist.Exponential(1))\n",
    "    mu = a + bF * F\n",
    "    W = numpyro.sample(\"W\", dist.Normal(mu, sigma), obs=D)\n",
    "    \n",
    "autoL = AutoLaplaceApproximation(model_one)\n",
    "svi = SVI(\n",
    "    model_one, \n",
    "    autoL, \n",
    "    optim.Adam(1), \n",
    "    Trace_ELBO(), \n",
    "    F=df['avgfood'].values,\n",
    "    D=df['weight'].values\n",
    ")"
   ]
  },
  {
   "cell_type": "code",
   "execution_count": 40,
   "id": "62c71495",
   "metadata": {},
   "outputs": [
    {
     "name": "stderr",
     "output_type": "stream",
     "text": [
      "100%|█| 10000/10000 [00:02<00:00, 4625.08it/s, init loss: 3411.7129, avg. loss [\n"
     ]
    },
    {
     "data": {
      "text/plain": [
       "{'auto_loc': DeviceArray([-0.00094191, -0.0351629 , -0.01127534], dtype=float32)}"
      ]
     },
     "execution_count": 40,
     "metadata": {},
     "output_type": "execute_result"
    }
   ],
   "source": [
    "result = svi.run(random.PRNGKey(0), 10000)\n",
    "result.params"
   ]
  },
  {
   "cell_type": "code",
   "execution_count": 43,
   "id": "10951601",
   "metadata": {},
   "outputs": [
    {
     "name": "stdout",
     "output_type": "stream",
     "text": [
      "\n",
      "                mean       std    median      5.0%     95.0%     n_eff     r_hat\n",
      "         a     -0.00      0.08     -0.00     -0.14      0.13   9971.53      1.00\n",
      "        bF     -0.04      0.09     -0.04     -0.18      0.11  10073.69      1.00\n",
      "     sigma      0.99      0.06      0.99      0.88      1.09   9814.02      1.00\n",
      "\n"
     ]
    }
   ],
   "source": [
    "posterior = autoL.sample_posterior(random.PRNGKey(1), result.params, (10000,))\n",
    "print_summary(posterior, group_by_chain=False)"
   ]
  },
  {
   "cell_type": "code",
   "execution_count": 47,
   "id": "ebf9b402",
   "metadata": {},
   "outputs": [],
   "source": [
    "def model_two(F, G, D=None):\n",
    "    a = numpyro.sample(\"a\", dist.Normal(0, 0.2))\n",
    "    bF = numpyro.sample(\"bF\", dist.Normal(0, 0.5))\n",
    "    bG = numpyro.sample(\"bG\", dist.Normal(0, 0.5))\n",
    "    sigma = numpyro.sample(\"sigma\", dist.Exponential(1))\n",
    "    mu = a + bF * F + bG*G\n",
    "    W = numpyro.sample(\"W\", dist.Normal(mu, sigma), obs=D)\n",
    "    \n",
    "autoL = AutoLaplaceApproximation(model_two)\n",
    "svi = SVI(\n",
    "    model_two, \n",
    "    autoL, \n",
    "    optim.Adam(1), \n",
    "    Trace_ELBO(), \n",
    "    F=df['avgfood'].values,\n",
    "    G=df['groupsize'].values,\n",
    "    D=df['weight'].values\n",
    ")"
   ]
  },
  {
   "cell_type": "code",
   "execution_count": 48,
   "id": "14d1dce2",
   "metadata": {},
   "outputs": [
    {
     "name": "stderr",
     "output_type": "stream",
     "text": [
      "100%|█| 10000/10000 [00:02<00:00, 4523.28it/s, init loss: 1578.7650, avg. loss [\n"
     ]
    },
    {
     "data": {
      "text/plain": [
       "{'auto_loc': DeviceArray([-0.01131386,  0.47927392, -0.569963  , -0.04578316], dtype=float32)}"
      ]
     },
     "execution_count": 48,
     "metadata": {},
     "output_type": "execute_result"
    }
   ],
   "source": [
    "result = svi.run(random.PRNGKey(0), 10000)\n",
    "result.params"
   ]
  },
  {
   "cell_type": "code",
   "execution_count": 49,
   "id": "4e5f4369",
   "metadata": {},
   "outputs": [
    {
     "name": "stdout",
     "output_type": "stream",
     "text": [
      "\n",
      "                mean       std    median      5.0%     95.0%     n_eff     r_hat\n",
      "         a     -0.01      0.08     -0.01     -0.14      0.13   9990.20      1.00\n",
      "        bF      0.48      0.18      0.48      0.18      0.77   9233.25      1.00\n",
      "        bG     -0.57      0.18     -0.57     -0.88     -0.28   9864.12      1.00\n",
      "     sigma      0.96      0.06      0.96      0.85      1.06   9988.26      1.00\n",
      "\n"
     ]
    }
   ],
   "source": [
    "posterior = autoL.sample_posterior(random.PRNGKey(1), result.params, (10000,))\n",
    "print_summary(posterior, group_by_chain=False)"
   ]
  },
  {
   "cell_type": "code",
   "execution_count": 52,
   "id": "7f99d424",
   "metadata": {},
   "outputs": [
    {
     "name": "stderr",
     "output_type": "stream",
     "text": [
      "100%|█| 10000/10000 [00:02<00:00, 4606.71it/s, init loss: 755.3344, avg. loss [9\n"
     ]
    },
    {
     "name": "stdout",
     "output_type": "stream",
     "text": [
      "\n",
      "                mean       std    median      5.0%     95.0%     n_eff     r_hat\n",
      "         a     -0.05      0.04     -0.05     -0.12      0.01   9971.53      1.00\n",
      "        bF      0.87      0.04      0.87      0.81      0.94  10071.79      1.00\n",
      "     sigma      0.43      0.03      0.43      0.38      0.48   9902.39      1.00\n",
      "\n"
     ]
    }
   ],
   "source": [
    "def model_three(F, D=None):\n",
    "    a = numpyro.sample(\"a\", dist.Normal(0, 0.2))\n",
    "    bF = numpyro.sample(\"bF\", dist.Normal(0, 0.5))\n",
    "    sigma = numpyro.sample(\"sigma\", dist.Exponential(1))\n",
    "    \n",
    "    mu = a + bF * F\n",
    "    G = numpyro.sample(\"W\", dist.Normal(mu, sigma), obs=D)\n",
    "    \n",
    "autoL = AutoLaplaceApproximation(model_three)\n",
    "svi = SVI(\n",
    "    model_three, \n",
    "    autoL, \n",
    "    optim.Adam(1), \n",
    "    Trace_ELBO(), \n",
    "    F=df['avgfood'].values,\n",
    "    D=df['groupsize'].values,\n",
    ")\n",
    "\n",
    "result = svi.run(random.PRNGKey(0), 10000)\n",
    "posterior = autoL.sample_posterior(random.PRNGKey(1), result.params, (10000,))\n",
    "print_summary(posterior, group_by_chain=False)"
   ]
  },
  {
   "cell_type": "code",
   "execution_count": null,
   "id": "7092022c",
   "metadata": {},
   "outputs": [],
   "source": []
  }
 ],
 "metadata": {
  "kernelspec": {
   "display_name": "Python 3 (ipykernel)",
   "language": "python",
   "name": "python3"
  },
  "language_info": {
   "codemirror_mode": {
    "name": "ipython",
    "version": 3
   },
   "file_extension": ".py",
   "mimetype": "text/x-python",
   "name": "python",
   "nbconvert_exporter": "python",
   "pygments_lexer": "ipython3",
   "version": "3.10.4"
  }
 },
 "nbformat": 4,
 "nbformat_minor": 5
}
