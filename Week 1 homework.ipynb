{
 "cells": [
  {
   "cell_type": "code",
   "execution_count": 15,
   "id": "bf528ce6",
   "metadata": {},
   "outputs": [],
   "source": [
    "import arviz as az\n",
    "import pymc as pm\n",
    "\n",
    "import math\n",
    "import matplotlib.pyplot as plt\n",
    "import numpy as np\n",
    "import scipy.stats as stats\n",
    "\n",
    "\n",
    "from numpyro.diagnostics import hpdi\n"
   ]
  },
  {
   "cell_type": "code",
   "execution_count": 2,
   "id": "b84cbde6",
   "metadata": {},
   "outputs": [],
   "source": [
    "n_water = 4\n",
    "n_land = 11\n",
    "\n",
    "n_elems = n_water+n_land\n"
   ]
  },
  {
   "cell_type": "code",
   "execution_count": 3,
   "id": "7977e037",
   "metadata": {},
   "outputs": [],
   "source": [
    "class GridApproximator:\n",
    "    def __init__(self, n_land, n_water, n_grid=10):\n",
    "        self.n_grid = n_grid\n",
    "        self.grid = np.linspace(0, 1, self.n_grid)\n",
    "        self.prior = np.ones_like(self.grid)\n",
    "        self.set_data(n_land, n_water)\n",
    "        self.fit_grid()\n",
    "\n",
    "    def set_data(self, n_land, n_water):\n",
    "        self.n_land = n_land\n",
    "        self.n_water = n_water\n",
    "        self.n_tosses = n_land + n_water\n",
    "\n",
    "    def fit_grid(self):\n",
    "        self.get_likelihood()\n",
    "        self.get_posterior()\n",
    "\n",
    "    def get_likelihood(self):\n",
    "        self.likelihood = np.array(\n",
    "            [stats.binom.pmf(self.n_water, self.n_tosses, p) for p in self.grid]\n",
    "        )\n",
    "\n",
    "    def get_posterior(self):\n",
    "        unstd_posterior = self.likelihood * self.prior\n",
    "        self.posterior = unstd_posterior / np.sum(unstd_posterior)\n",
    "\n",
    "    def older_get_posterior(self, n_water, n_land, p_water):\n",
    "        \"\"\"Don't use this\n",
    "\n",
    "        Or do - is this a true posterior?\"\"\"\n",
    "\n",
    "        result = math.factorial(n_water + n_land)\n",
    "        result = result / math.factorial(n_water) / math.factorial(n_land)\n",
    "        result = result * (p_water**n_water)\n",
    "        result = result * (1.0 - p_water) ** n_land\n",
    "        return result\n",
    "\n",
    "    def plot_posterior(self):\n",
    "        plt.figure(figsize=(5, 5), facecolor=(1, 1, 1))\n",
    "        plt.plot(self.grid, self.posterior, \".-\")\n",
    "        plt.xlabel(\"Probability of water\")\n",
    "        plt.ylabel(\"Posterior probability\")\n"
   ]
  },
  {
   "cell_type": "markdown",
   "id": "ea2f8710",
   "metadata": {},
   "source": [
    "## Problem 1\n",
    "\n",
    "Suppose the globe tossing data (Chapter 2) had turned out to be 4 water and 11 land. Construct the posterior distribution, using grid approximation. Use the same flat prior as in the book."
   ]
  },
  {
   "cell_type": "code",
   "execution_count": 4,
   "id": "124360e5",
   "metadata": {},
   "outputs": [
    {
     "data": {
      "image/png": "[encoded data removed]",
      "text/plain": [
       "<Figure size 360x360 with 1 Axes>"
      ]
     },
     "metadata": {},
     "output_type": "display_data"
    }
   ],
   "source": [
    "model = GridApproximator(11, 4, n_grid=123)\n",
    "\n",
    "model.plot_posterior()"
   ]
  },
  {
   "cell_type": "markdown",
   "id": "97362311",
   "metadata": {},
   "source": [
    "## Problem 2\n",
    "\n",
    "Now suppose the data are 4 water and 2 land. Compute the posterior again, but this time use a prior that is zero below p = 0.5 and a constant above p = 0.5. This corresponds to prior information that a majority of the Earth’s surface is water."
   ]
  },
  {
   "cell_type": "code",
   "execution_count": 5,
   "id": "bb862919",
   "metadata": {},
   "outputs": [
    {
     "data": {
      "text/plain": [
       "array([0. , 0. , 0. , 0. , 0. , 0. , 0. , 0. , 0. , 0. , 0. , 0. , 0. ,\n",
       "       0. , 0. , 0. , 0. , 0. , 0. , 0. , 0. , 0. , 0. , 0. , 0. , 0. ,\n",
       "       0. , 0. , 0. , 0. , 0. , 0. , 0. , 0. , 0. , 0. , 0. , 0. , 0. ,\n",
       "       0. , 0. , 0. , 0. , 0. , 0. , 0. , 0. , 0. , 0. , 0. , 0. , 0. ,\n",
       "       0. , 0. , 0. , 0. , 0. , 0. , 0. , 0. , 0. , 0.5, 1. , 1. , 1. ,\n",
       "       1. , 1. , 1. , 1. , 1. , 1. , 1. , 1. , 1. , 1. , 1. , 1. , 1. ,\n",
       "       1. , 1. , 1. , 1. , 1. , 1. , 1. , 1. , 1. , 1. , 1. , 1. , 1. ,\n",
       "       1. , 1. , 1. , 1. , 1. , 1. , 1. , 1. , 1. , 1. , 1. , 1. , 1. ,\n",
       "       1. , 1. , 1. , 1. , 1. , 1. , 1. , 1. , 1. , 1. , 1. , 1. , 1. ,\n",
       "       1. , 1. , 1. , 1. , 1. , 1. ])"
      ]
     },
     "execution_count": 5,
     "metadata": {},
     "output_type": "execute_result"
    }
   ],
   "source": [
    "np.heaviside(model.grid-0.5, 0.5)"
   ]
  },
  {
   "cell_type": "code",
   "execution_count": 6,
   "id": "306d90a7",
   "metadata": {},
   "outputs": [
    {
     "data": {
      "text/plain": [
       "array([1., 1., 1., 1., 1., 1., 1., 1., 1., 1., 1., 1., 1., 1., 1., 1., 1.,\n",
       "       1., 1., 1., 1., 1., 1., 1., 1., 1., 1., 1., 1., 1., 1., 1., 1., 1.,\n",
       "       1., 1., 1., 1., 1., 1., 1., 1., 1., 1., 1., 1., 1., 1., 1., 1., 1.,\n",
       "       1., 1., 1., 1., 1., 1., 1., 1., 1., 1., 1., 1., 1., 1., 1., 1., 1.,\n",
       "       1., 1., 1., 1., 1., 1., 1., 1., 1., 1., 1., 1., 1., 1., 1., 1., 1.,\n",
       "       1., 1., 1., 1., 1., 1., 1., 1., 1., 1., 1., 1., 1., 1., 1., 1., 1.,\n",
       "       1., 1., 1., 1., 1., 1., 1., 1., 1., 1., 1., 1., 1., 1., 1., 1., 1.,\n",
       "       1., 1., 1., 1.])"
      ]
     },
     "execution_count": 6,
     "metadata": {},
     "output_type": "execute_result"
    }
   ],
   "source": [
    "model.prior"
   ]
  },
  {
   "cell_type": "code",
   "execution_count": 7,
   "id": "0e7b0b56",
   "metadata": {},
   "outputs": [
    {
     "data": {
      "image/png": "[encoded data removed]",
      "text/plain": [
       "<Figure size 360x360 with 1 Axes>"
      ]
     },
     "metadata": {},
     "output_type": "display_data"
    }
   ],
   "source": [
    "model = GridApproximator(2, 4, n_grid=100)\n",
    "index = np.where(model.grid < 0.5)\n",
    "model.prior[index] = 0.0\n",
    "model.fit_grid()\n",
    "model.plot_posterior()"
   ]
  },
  {
   "cell_type": "markdown",
   "id": "b0b7437e",
   "metadata": {},
   "source": [
    "## Problem 3\n",
    "\n",
    "For the posterior distribution from 2, compute 89% percentile and HPDI intervals. Compare the widths of these intervals. Which is wider? Why? If you had only the information in the interval, what might you misunderstand about the shape of the posterior distribution?"
   ]
  },
  {
   "cell_type": "code",
   "execution_count": 13,
   "id": "6bbf0090",
   "metadata": {},
   "outputs": [
    {
     "data": {
      "text/plain": [
       "0.0"
      ]
     },
     "execution_count": 13,
     "metadata": {},
     "output_type": "execute_result"
    }
   ],
   "source": [
    "np.percentile(model.posterior, 0.89)"
   ]
  },
  {
   "cell_type": "code",
   "execution_count": 16,
   "id": "c0c65ce8",
   "metadata": {},
   "outputs": [
    {
     "data": {
      "text/plain": [
       "array([0.        , 0.02901693])"
      ]
     },
     "execution_count": 16,
     "metadata": {},
     "output_type": "execute_result"
    }
   ],
   "source": [
    "hpdi(model.posterior, prob=0.89)"
   ]
  },
  {
   "cell_type": "code",
   "execution_count": 10,
   "id": "d8feed1b",
   "metadata": {},
   "outputs": [
    {
     "data": {
      "text/plain": [
       "0.0"
      ]
     },
     "execution_count": 10,
     "metadata": {},
     "output_type": "execute_result"
    }
   ],
   "source": [
    "np.random.choice(model.posterior)"
   ]
  },
  {
   "cell_type": "code",
   "execution_count": 11,
   "id": "f67fca28",
   "metadata": {},
   "outputs": [
    {
     "data": {
      "text/plain": [
       "array([0.        , 0.        , 0.        , 0.        , 0.        ,\n",
       "       0.        , 0.        , 0.        , 0.        , 0.        ,\n",
       "       0.        , 0.        , 0.        , 0.        , 0.        ,\n",
       "       0.        , 0.        , 0.        , 0.        , 0.        ,\n",
       "       0.        , 0.        , 0.        , 0.        , 0.        ,\n",
       "       0.        , 0.        , 0.        , 0.        , 0.        ,\n",
       "       0.        , 0.        , 0.        , 0.        , 0.        ,\n",
       "       0.        , 0.        , 0.        , 0.        , 0.        ,\n",
       "       0.        , 0.        , 0.        , 0.        , 0.        ,\n",
       "       0.        , 0.        , 0.        , 0.        , 0.        ,\n",
       "       0.02185618, 0.02270206, 0.023524  , 0.02431763, 0.02507853,\n",
       "       0.02580229, 0.02648446, 0.02712065, 0.02770651, 0.02823775,\n",
       "       0.0287102 , 0.02911981, 0.02946268, 0.02973509, 0.02993354,\n",
       "       0.03005476, 0.03009579, 0.03005393, 0.02992686, 0.02971262,\n",
       "       0.02940967, 0.02901693, 0.0285338 , 0.0279602 , 0.02729663,\n",
       "       0.0265442 , 0.02570467, 0.02478051, 0.02377492, 0.02269188,\n",
       "       0.02153621, 0.02031361, 0.01903072, 0.01769516, 0.01631555,\n",
       "       0.01490163, 0.01346426, 0.01201549, 0.01056862, 0.00913823,\n",
       "       0.00774029, 0.00639216, 0.00511269, 0.00392226, 0.00284285,\n",
       "       0.00189809, 0.00111334, 0.00051576, 0.00013434, 0.        ])"
      ]
     },
     "execution_count": 11,
     "metadata": {},
     "output_type": "execute_result"
    }
   ],
   "source": [
    "model.posterior"
   ]
  },
  {
   "cell_type": "code",
   "execution_count": null,
   "id": "ad1ecb44",
   "metadata": {},
   "outputs": [],
   "source": []
  }
 ],
 "metadata": {
  "kernelspec": {
   "display_name": "Python 3 (ipykernel)",
   "language": "python",
   "name": "python3"
  },
  "language_info": {
   "codemirror_mode": {
    "name": "ipython",
    "version": 3
   },
   "file_extension": ".py",
   "mimetype": "text/x-python",
   "name": "python",
   "nbconvert_exporter": "python",
   "pygments_lexer": "ipython3",
   "version": "3.10.4"
  }
 },
 "nbformat": 4,
 "nbformat_minor": 5
}
